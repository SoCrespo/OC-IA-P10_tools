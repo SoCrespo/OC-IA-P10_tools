{
 "cells": [
  {
   "cell_type": "markdown",
   "metadata": {},
   "source": [
    "# OC-IA-P10 - CHATBOT"
   ]
  },
  {
   "cell_type": "markdown",
   "metadata": {},
   "source": [
    "# DATA PREPARATION"
   ]
  },
  {
   "cell_type": "markdown",
   "metadata": {},
   "source": [
    "We are given an existing dataset, more complete than what we need. Let's explore it and extract only the desired information."
   ]
  },
  {
   "cell_type": "code",
   "execution_count": 1,
   "metadata": {},
   "outputs": [],
   "source": [
    "# import sys\n",
    "# !{sys.executable} -m pip install -r requirements.txt"
   ]
  },
  {
   "cell_type": "code",
   "execution_count": 2,
   "metadata": {},
   "outputs": [],
   "source": [
    "import pandas as pd\n",
    "import numpy as np\n",
    "from tqdm import tqdm\n",
    "tqdm.pandas()\n",
    "import json"
   ]
  },
  {
   "cell_type": "code",
   "execution_count": 3,
   "metadata": {},
   "outputs": [
    {
     "data": {
      "text/plain": [
       "0       [{'text': 'I'd like to book a trip to Atlantis...\n",
       "1       [{'text': 'Hello, I am looking to book a vacat...\n",
       "2       [{'text': 'Hello there i am looking to go on a...\n",
       "3       [{'text': 'Hi I'd like to go to Caprica from B...\n",
       "4       [{'text': 'Hello, I am looking to book a trip ...\n",
       "                              ...                        \n",
       "1364    [{'text': 'Hi I've got 9 days free and I'm loo...\n",
       "1365    [{'text': 'I need to get to Fortaleza on Septe...\n",
       "1366    [{'text': 'We're finally going on vacation isn...\n",
       "1367    [{'text': 'Hi there, I'm looking for a place t...\n",
       "1368    [{'text': 'I need to book a trip for the whole...\n",
       "Name: turns, Length: 1369, dtype: object"
      ]
     },
     "execution_count": 3,
     "metadata": {},
     "output_type": "execute_result"
    }
   ],
   "source": [
    "frames = pd.read_json('frames/frames.json')\n",
    "frames['turns']\n"
   ]
  },
  {
   "cell_type": "markdown",
   "metadata": {},
   "source": [
    "Let's have a look at a conversation. For ease of reading the values are sent to a json file."
   ]
  },
  {
   "cell_type": "code",
   "execution_count": 4,
   "metadata": {},
   "outputs": [],
   "source": [
    "with open('sample.json', \"w\") as f:\n",
    "    json.dump(frames.loc[0]['turns'], f, indent=4)"
   ]
  },
  {
   "cell_type": "markdown",
   "metadata": {},
   "source": [
    "We'll use only user data (not wizard's answers), and among them we'll use the `text` and the `acts_without_refs` values. Let's have a look at the values we can find inside:"
   ]
  },
  {
   "cell_type": "code",
   "execution_count": 5,
   "metadata": {},
   "outputs": [
    {
     "name": "stderr",
     "output_type": "stream",
     "text": [
      "100%|██████████| 1/1 [00:00<00:00, 13400.33it/s]\n"
     ]
    },
    {
     "data": {
      "text/plain": [
       "{'budget',\n",
       " 'dst_city',\n",
       " 'end_date',\n",
       " 'flex',\n",
       " 'intent',\n",
       " 'n_adults',\n",
       " 'or_city',\n",
       " 'ref',\n",
       " 'str_date'}"
      ]
     },
     "execution_count": 5,
     "metadata": {},
     "output_type": "execute_result"
    }
   ],
   "source": [
    "all_entities = set()\n",
    "for conversation in tqdm(frames['turns'][:1]):\n",
    "    for turn in conversation:\n",
    "        for act in turn['labels']['acts']:\n",
    "            for arg in act['args']:\n",
    "                all_entities.add(arg['key'])\n",
    "       \n",
    "all_entities"
   ]
  },
  {
   "cell_type": "markdown",
   "metadata": {},
   "source": [
    "\n",
    "We'll specifically stick to the values we want to process in this MVP:\n",
    "- departure city ('or_city')\n",
    "- arrival city ('dest_city')\n",
    "- departure date ('str_date')\n",
    "- end date ('end_date')\n",
    "- budget ('budget')"
   ]
  },
  {
   "cell_type": "markdown",
   "metadata": {},
   "source": [
    "Note : a first pass on this part showed that extracting the \"intent\" entity is not interesting at this stage of our work : this intent can be \"book\" or \"None\", which is not useful for us."
   ]
  },
  {
   "cell_type": "markdown",
   "metadata": {},
   "source": [
    "\n",
    "Moreover, since in this MVP we do not want to manage any historical aspect, we'll only keep the first utterance of each conversation."
   ]
  },
  {
   "cell_type": "markdown",
   "metadata": {},
   "source": [
    "Example of json file format for training LUIS:"
   ]
  },
  {
   "cell_type": "markdown",
   "metadata": {},
   "source": [
    "```Python\n",
    "[\n",
    "  {\n",
    "    \"text\": \"order a pizza\",\n",
    "    \"intentName\": \"ModifyOrder\",\n",
    "    \"entityLabels\": [\n",
    "      {\n",
    "        \"entityName\": \"Order\",\n",
    "        \"startCharIndex\": 6,\n",
    "        \"endCharIndex\": 12\n",
    "      }\n",
    "    ]\n",
    "  },\n",
    "  {\n",
    "    \"text\": \"order a large pepperoni pizza\",\n",
    "    \"intentName\": \"ModifyOrder\",\n",
    "    \"entityLabels\": [\n",
    "      {\n",
    "        \"entityName\": \"Order\",\n",
    "        \"startCharIndex\": 6,\n",
    "        \"endCharIndex\": 28\n",
    "      },\n",
    "      {\n",
    "        \"entityName\": \"FullPizzaWithModifiers\",\n",
    "        \"startCharIndex\": 6,\n",
    "        \"endCharIndex\": 28\n",
    "      },\n",
    "      {\n",
    "        \"entityName\": \"PizzaType\",\n",
    "        \"startCharIndex\": 14,\n",
    "        \"endCharIndex\": 28\n",
    "      },\n",
    "      {\n",
    "        \"entityName\": \"Size\",\n",
    "        \"startCharIndex\": 8,\n",
    "        \"endCharIndex\": 12\n",
    "      }\n",
    "    ]\n",
    "  },\n",
    "  {\n",
    "    \"text\": \"I want two large pepperoni pizzas on thin crust\",\n",
    "    \"intentName\": \"ModifyOrder\",\n",
    "    \"entityLabels\": [\n",
    "      {\n",
    "        \"entityName\": \"Order\",\n",
    "        \"startCharIndex\": 7,\n",
    "        \"endCharIndex\": 46\n",
    "      },\n",
    "      {\n",
    "        \"entityName\": \"FullPizzaWithModifiers\",\n",
    "        \"startCharIndex\": 7,\n",
    "        \"endCharIndex\": 46\n",
    "      },\n",
    "      {\n",
    "        \"entityName\": \"PizzaType\",\n",
    "        \"startCharIndex\": 17,\n",
    "        \"endCharIndex\": 32\n",
    "      },\n",
    "      {\n",
    "        \"entityName\": \"Size\",\n",
    "        \"startCharIndex\": 11,\n",
    "        \"endCharIndex\": 15\n",
    "      },\n",
    "      {\n",
    "        \"entityName\": \"Quantity\",\n",
    "        \"startCharIndex\": 7,\n",
    "        \"endCharIndex\": 9\n",
    "      },\n",
    "      {\n",
    "        \"entityName\": \"Crust\",\n",
    "        \"startCharIndex\": 37,\n",
    "        \"endCharIndex\": 46\n",
    "      }\n",
    "    ]\n",
    "  }\n",
    "]\n",
    "```"
   ]
  },
  {
   "cell_type": "code",
   "execution_count": 6,
   "metadata": {},
   "outputs": [],
   "source": [
    "entities = [\n",
    "    'budget',\n",
    "    'or_city',\n",
    "    'dst_city',\n",
    "    'str_date',\n",
    "    'end_date',\n",
    " ]\n",
    "\n",
    "def merge_elements(list_of_same_entities):\n",
    "    \"\"\"\n",
    "    Merge entities of same category into one. E.g. (for the sentence\n",
    "    'I want to go to Paris on the 5th of May'):\n",
    "\n",
    "    list_of_same_entities = [\n",
    "        {\n",
    "            'entityName': 'str_date',\n",
    "            'startCharIndex': 29,  # index of '5'\n",
    "            'endCharIndex': 31,\n",
    "        },\n",
    "        {\n",
    "            'entityName': 'str_date',\n",
    "            'startCharIndex': 36,  # index of 'May'\n",
    "            'endCharIndex': 38,\n",
    "        },  \n",
    "    ]\n",
    "    output = [\n",
    "        {\n",
    "            'entityName': 'str_date',\n",
    "            'startCharIndex': 29,  # index of '5'\n",
    "            'endCharIndex': 38, # end index of 'May'\n",
    "        },  \n",
    "    ]   \n",
    "        \n",
    "    \"\"\"\n",
    "    list_of_same_entities = sorted(list_of_same_entities, key=lambda x: x['startCharIndex'])\n",
    "    entity_name = list_of_same_entities[0]['entityName']\n",
    "    start_index = list_of_same_entities[0]['startCharIndex']\n",
    "    end_index = list_of_same_entities[-1]['endCharIndex']\n",
    "    result = [{    \n",
    "        'entityName': entity_name,\n",
    "        'startCharIndex': start_index,\n",
    "        'endCharIndex': end_index,\n",
    "    }]\n",
    "    return result \n",
    "    \n",
    "\n",
    "def extract_args(text, arg, entities=entities):\n",
    "    \"\"\"\n",
    "    Formats args of arg into a list of dicts as follows:\n",
    "    [\n",
    "        {\n",
    "            'entityName': '...',\n",
    "            'startCharIndex': ...,\n",
    "            'endCharIndex': ...,\n",
    "        },  \n",
    "    ]\n",
    "    If entities is provided (default behaviour), only those entities are returned.\n",
    "    Otherwise, all entities are returned.\n",
    "    \"\"\"\n",
    "    results = []\n",
    "    for item in arg['args']:\n",
    "        key = item['key']\n",
    "        val = item['val']\n",
    "        if key not in entities:\n",
    "            continue\n",
    "        if not (val and isinstance(val, str) and val in text):\n",
    "            continue\n",
    "        start_index = text.index(val)\n",
    "        end_index = start_index + len(val)\n",
    "        results.append({\n",
    "            'entityName': key,\n",
    "            'startCharIndex': start_index,\n",
    "            'endCharIndex': end_index,  \n",
    "        })\n",
    "    \n",
    "    # Some data, such as dates, may be split into multiple entities,\n",
    "    # we need to merge them\n",
    "    merged_results = []\n",
    "    for entity in entities:\n",
    "        elements_for_entity = [item for item in results \n",
    "                                if item['entityName'] == entity]\n",
    "        if len(elements_for_entity) > 1:\n",
    "            merged_results.extend(merge_elements(elements_for_entity))\n",
    "        elif len(elements_for_entity) == 1:\n",
    "            merged_results.extend(elements_for_entity)\n",
    "    return merged_results   \n",
    "\n",
    "    \n",
    "def extract_intent_name(arg):\n",
    "    return arg['name'] \n",
    "\n",
    "\n",
    "def extract_data(sentence):\n",
    "    \"\"\"\n",
    "    Return selected data from sentence\n",
    "    (a round of a counversation) in following format:\n",
    "    {\n",
    "        'intent': ['...'],\n",
    "        'entities': [\n",
    "            {\n",
    "                'entityName': '...',\n",
    "                'startCharIndex': ...,\n",
    "                'endCharIndex': ...,\n",
    "            },\n",
    "        ],\n",
    "    }\n",
    "    \"\"\"\n",
    "    data = dict()\n",
    "    text = sentence['text']\n",
    "    args = sentence['labels']['acts_without_refs']\n",
    "    entities = []\n",
    "    data['text'] = text\n",
    "    data['intentName'] = tuple(sorted(list(set([extract_intent_name(arg) for arg in args]))))\n",
    "    for arg in args:\n",
    "        entities.extend(extract_args(text, arg))\n",
    "    data['entityLabels'] = entities\n",
    "    return data\n",
    "\n",
    "    "
   ]
  },
  {
   "cell_type": "code",
   "execution_count": 7,
   "metadata": {},
   "outputs": [
    {
     "name": "stdout",
     "output_type": "stream",
     "text": [
      "All tests passed!\n"
     ]
    }
   ],
   "source": [
    "###############################################################################\n",
    "#  DATA FOR TESTS\n",
    "###############################################################################\n",
    "\n",
    "text = \"I'd like to book a trip to Atlantis from Caprica on Saturday, August 13, 2016 for 8 adults. I have a tight budget of 1700.\"\n",
    "\n",
    "arg_1 = {'args': [\n",
    "                {'val': 'book', 'key': 'intent'}\n",
    "                ], \n",
    "        'name': 'inform'}\n",
    "\n",
    "arg_2 = {'args': [\n",
    "                {'val': 'Caprica', 'key': 'or_city'}, \n",
    "                {'val': 'Saturday', 'key': 'str_date'}, \n",
    "                {'val': 'August', 'key': 'str_date'}, \n",
    "                {'val': '2016', 'key': 'str_date'}, \n",
    "                {'val': '8', 'key': 'adults'}, \n",
    "                {'val': '1700', 'key': 'budget'}\n",
    "                ], \n",
    "        'name': 'request'}\n",
    "\n",
    "excerpt_1 = {'text': \"I'd like to book a trip to Atlantis from Caprica on Saturday, August 13, 2016 for 8 adults. I have a tight budget of 1700.\",\n",
    " 'labels': {'acts': [{'args': [{'val': 'book', 'key': 'intent'}],\n",
    "    'name': 'inform'},\n",
    "   {'args': [{'val': 'Atlantis', 'key': 'dst_city'},\n",
    "     {'val': 'Caprica', 'key': 'or_city'},\n",
    "     {'val': 'Saturday, August 13, 2016', 'key': 'str_date'},\n",
    "     {'val': '8', 'key': 'n_adults'},\n",
    "     {'val': '1700', 'key': 'budget'}],\n",
    "    'name': 'inform'}],\n",
    "  'acts_without_refs': [{'args': [{'val': 'book', 'key': 'intent'}],\n",
    "    'name': 'inform'},\n",
    "   {'args': [{'val': 'Atlantis', 'key': 'dst_city'},\n",
    "     {'val': 'Caprica', 'key': 'or_city'},\n",
    "     {'val': 'Saturday, August 13, 2016', 'key': 'str_date'},\n",
    "     {'val': '8', 'key': 'n_adults'},\n",
    "     {'val': '1700', 'key': 'budget'}],\n",
    "    'name': 'inform'}],\n",
    "  'active_frame': 1,\n",
    "  'frames': [{'info': {'intent': [{'val': 'book', 'negated': False}],\n",
    "     'budget': [{'val': '1700.0', 'negated': False}],\n",
    "     'dst_city': [{'val': 'Atlantis', 'negated': False}],\n",
    "     'or_city': [{'val': 'Caprica', 'negated': False}],\n",
    "     'str_date': [{'val': 'august 13', 'negated': False}],\n",
    "     'n_adults': [{'val': '8', 'negated': False}]},\n",
    "    'frame_id': 1,\n",
    "    'requests': [],\n",
    "    'frame_parent_id': None,\n",
    "    'binary_questions': [],\n",
    "    'compare_requests': []}]},\n",
    " 'author': 'user',\n",
    " 'timestamp': 1471272019730.0}\n",
    "\n",
    "excerpt_2 = {'text': 'Hello there i am looking to go on a vacation with my family to Gotham City, can you help me?',\n",
    " 'labels': {'acts': [{'args': [{'val': 'book', 'key': 'intent'}],\n",
    "    'name': 'inform'},\n",
    "   {'args': [{'val': 'Gotham City', 'key': 'dst_city'}], 'name': 'inform'},\n",
    "   {'args': [], 'name': 'greeting'}],\n",
    "  'acts_without_refs': [{'args': [{'val': 'book', 'key': 'intent'}],\n",
    "    'name': 'inform'},\n",
    "   {'args': [{'val': 'Gotham City', 'key': 'dst_city'}], 'name': 'inform'},\n",
    "   {'args': [], 'name': 'greeting'}],\n",
    "  'active_frame': 1,\n",
    "  'frames': [{'info': {'intent': [{'val': 'book', 'negated': False}],\n",
    "     'dst_city': [{'val': 'Gotham City', 'negated': False}]},\n",
    "    'frame_id': 1,\n",
    "    'requests': [],\n",
    "    'frame_parent_id': None,\n",
    "    'binary_questions': [],\n",
    "    'compare_requests': []}]},\n",
    " 'author': 'user',\n",
    " 'timestamp': 1471273579715.0}\n",
    "\n",
    "###############################################################################\n",
    "# TEST FUNCTIONS\n",
    "###############################################################################\n",
    "\n",
    "def test_merge_elements():\n",
    "    assert merge_elements([\n",
    "            {\n",
    "                'entityName': 'str_date',\n",
    "                'startCharIndex': 29,  # index of '5'\n",
    "                'endCharIndex': 31,\n",
    "            },\n",
    "            {\n",
    "                'entityName': 'str_date',\n",
    "                'startCharIndex': 36,  # index of 'May'\n",
    "                'endCharIndex': 38,\n",
    "            },  \n",
    "                        ]) == [\n",
    "            {\n",
    "                'entityName': 'str_date',\n",
    "                'startCharIndex': 29,  # index of '5'\n",
    "                'endCharIndex': 38, # end index of 'May'\n",
    "            }   \n",
    "                            ]\n",
    "\n",
    "def test_extract_args_unique_args():\n",
    "    assert extract_args(text, arg_1) == [] # the only entity is the intent, that we don't want to extract\n",
    "\n",
    "def test_extract_args_multiple_args():\n",
    "    assert extract_args(text, arg_2) == [\n",
    "                {'entityName': 'budget', 'startCharIndex': 117, 'endCharIndex': 121},\n",
    "                {'entityName': 'or_city', 'startCharIndex': 41, 'endCharIndex': 48},\n",
    "                {'entityName': 'str_date', 'startCharIndex': 52, 'endCharIndex': 77}]\n",
    "\n",
    "\n",
    "def test_extract_intent_name():\n",
    "  assert extract_intent_name(excerpt_1['labels']['acts'][0]) == 'inform'\n",
    "  assert extract_intent_name(excerpt_2['labels']['acts'][0]) == 'inform'\n",
    "\n",
    "def test_extract_data():\n",
    "  assert extract_data(excerpt_1) == {\n",
    "\n",
    "    'text': \"I'd like to book a trip to Atlantis from Caprica on Saturday, August 13, 2016 for 8 adults. I have a tight budget of 1700.\",\n",
    "    'intentName': ('inform',),\n",
    "    'entityLabels': [\n",
    "\n",
    "        {'entityName': 'budget', 'startCharIndex': 117, 'endCharIndex': 121},\n",
    "        {'entityName': 'or_city', 'startCharIndex': 41, 'endCharIndex': 48},\n",
    "        {'entityName': 'dst_city', 'startCharIndex': 27, 'endCharIndex': 35},\n",
    "        {'entityName': 'str_date', 'startCharIndex': 52, 'endCharIndex': 77}\n",
    "                    ],         \n",
    "                                }\n",
    "  assert extract_data(excerpt_2) == {\n",
    "      'text': 'Hello there i am looking to go on a vacation with my family to Gotham City, can you help me?',\n",
    "      'intentName': ('greeting', 'inform'),\n",
    "      'entityLabels': [\n",
    "          {\n",
    "            'entityName': 'dst_city',\n",
    "            'startCharIndex': 63,\n",
    "            'endCharIndex': 74\n",
    "            }]}\n",
    "            \n",
    "###############################################################################\n",
    "# RUN TESTS\n",
    "###############################################################################\n",
    "\n",
    "err_counter = 0\n",
    "for test_func in [\n",
    "test_merge_elements,\n",
    "test_extract_args_multiple_args,\n",
    "test_extract_args_unique_args,\n",
    "test_extract_intent_name,\n",
    "test_extract_data,\n",
    "]:\n",
    "    try:\n",
    "        test_func()\n",
    "    except AssertionError:\n",
    "        print('Test failed: {}'.format(test_func.__name__))\n",
    "        err_counter += 1\n",
    "if err_counter == 0:\n",
    "    print('All tests passed!')        \n"
   ]
  },
  {
   "cell_type": "markdown",
   "metadata": {},
   "source": [
    "Let's extract data into the required json format:"
   ]
  },
  {
   "cell_type": "code",
   "execution_count": 8,
   "metadata": {},
   "outputs": [
    {
     "name": "stderr",
     "output_type": "stream",
     "text": [
      "100%|██████████| 1369/1369 [00:00<00:00, 83707.54it/s]\n"
     ]
    }
   ],
   "source": [
    "all_data = [extract_data(conversation[0]) for conversation in tqdm(frames['turns'].values)]"
   ]
  },
  {
   "cell_type": "markdown",
   "metadata": {},
   "source": [
    "What are the different intentName values?"
   ]
  },
  {
   "cell_type": "code",
   "execution_count": 9,
   "metadata": {},
   "outputs": [
    {
     "data": {
      "text/plain": [
       "{'greeting', 'inform', 'request', 'thankyou'}"
      ]
     },
     "execution_count": 9,
     "metadata": {},
     "output_type": "execute_result"
    }
   ],
   "source": [
    "intents = set()\n",
    "for data in all_data:\n",
    "    intents.update(data['intentName'])\n",
    "intents    "
   ]
  },
  {
   "cell_type": "markdown",
   "metadata": {},
   "source": [
    "Let's have a look at examples:"
   ]
  },
  {
   "cell_type": "code",
   "execution_count": 10,
   "metadata": {},
   "outputs": [
    {
     "data": {
      "text/html": [
       "<div>\n",
       "<style scoped>\n",
       "    .dataframe tbody tr th:only-of-type {\n",
       "        vertical-align: middle;\n",
       "    }\n",
       "\n",
       "    .dataframe tbody tr th {\n",
       "        vertical-align: top;\n",
       "    }\n",
       "\n",
       "    .dataframe thead th {\n",
       "        text-align: right;\n",
       "    }\n",
       "</style>\n",
       "<table border=\"1\" class=\"dataframe\">\n",
       "  <thead>\n",
       "    <tr style=\"text-align: right;\">\n",
       "      <th></th>\n",
       "      <th>text</th>\n",
       "      <th>intentName</th>\n",
       "      <th>entityLabels</th>\n",
       "    </tr>\n",
       "  </thead>\n",
       "  <tbody>\n",
       "    <tr>\n",
       "      <th>0</th>\n",
       "      <td>I'd like to book a trip to Atlantis from Capri...</td>\n",
       "      <td>(inform,)</td>\n",
       "      <td>[{'entityName': 'budget', 'startCharIndex': 11...</td>\n",
       "    </tr>\n",
       "    <tr>\n",
       "      <th>1</th>\n",
       "      <td>Hello, I am looking to book a vacation from Go...</td>\n",
       "      <td>(greeting, inform)</td>\n",
       "      <td>[{'entityName': 'budget', 'startCharIndex': 75...</td>\n",
       "    </tr>\n",
       "    <tr>\n",
       "      <th>2</th>\n",
       "      <td>Hello there i am looking to go on a vacation w...</td>\n",
       "      <td>(greeting, inform)</td>\n",
       "      <td>[{'entityName': 'dst_city', 'startCharIndex': ...</td>\n",
       "    </tr>\n",
       "    <tr>\n",
       "      <th>3</th>\n",
       "      <td>Hi I'd like to go to Caprica from Busan, betwe...</td>\n",
       "      <td>(greeting, inform)</td>\n",
       "      <td>[{'entityName': 'or_city', 'startCharIndex': 3...</td>\n",
       "    </tr>\n",
       "    <tr>\n",
       "      <th>4</th>\n",
       "      <td>Hello, I am looking to book a trip for 2 adult...</td>\n",
       "      <td>(greeting, inform)</td>\n",
       "      <td>[{'entityName': 'budget', 'startCharIndex': 67...</td>\n",
       "    </tr>\n",
       "    <tr>\n",
       "      <th>...</th>\n",
       "      <td>...</td>\n",
       "      <td>...</td>\n",
       "      <td>...</td>\n",
       "    </tr>\n",
       "    <tr>\n",
       "      <th>1364</th>\n",
       "      <td>Hi I've got 9 days free and I'm looking for a ...</td>\n",
       "      <td>(inform,)</td>\n",
       "      <td>[{'entityName': 'or_city', 'startCharIndex': 6...</td>\n",
       "    </tr>\n",
       "    <tr>\n",
       "      <th>1365</th>\n",
       "      <td>I need to get to Fortaleza on September 8th or...</td>\n",
       "      <td>(inform,)</td>\n",
       "      <td>[{'entityName': 'dst_city', 'startCharIndex': ...</td>\n",
       "    </tr>\n",
       "    <tr>\n",
       "      <th>1366</th>\n",
       "      <td>We're finally going on vacation isn't that ama...</td>\n",
       "      <td>(inform,)</td>\n",
       "      <td>[{'entityName': 'budget', 'startCharIndex': 75...</td>\n",
       "    </tr>\n",
       "    <tr>\n",
       "      <th>1367</th>\n",
       "      <td>Hi there, I'm looking for a place to get away ...</td>\n",
       "      <td>(inform,)</td>\n",
       "      <td>[]</td>\n",
       "    </tr>\n",
       "    <tr>\n",
       "      <th>1368</th>\n",
       "      <td>I need to book a trip for the whole family fro...</td>\n",
       "      <td>(inform,)</td>\n",
       "      <td>[{'entityName': 'or_city', 'startCharIndex': 4...</td>\n",
       "    </tr>\n",
       "  </tbody>\n",
       "</table>\n",
       "<p>1369 rows × 3 columns</p>\n",
       "</div>"
      ],
      "text/plain": [
       "                                                   text          intentName  \\\n",
       "0     I'd like to book a trip to Atlantis from Capri...           (inform,)   \n",
       "1     Hello, I am looking to book a vacation from Go...  (greeting, inform)   \n",
       "2     Hello there i am looking to go on a vacation w...  (greeting, inform)   \n",
       "3     Hi I'd like to go to Caprica from Busan, betwe...  (greeting, inform)   \n",
       "4     Hello, I am looking to book a trip for 2 adult...  (greeting, inform)   \n",
       "...                                                 ...                 ...   \n",
       "1364  Hi I've got 9 days free and I'm looking for a ...           (inform,)   \n",
       "1365  I need to get to Fortaleza on September 8th or...           (inform,)   \n",
       "1366  We're finally going on vacation isn't that ama...           (inform,)   \n",
       "1367  Hi there, I'm looking for a place to get away ...           (inform,)   \n",
       "1368  I need to book a trip for the whole family fro...           (inform,)   \n",
       "\n",
       "                                           entityLabels  \n",
       "0     [{'entityName': 'budget', 'startCharIndex': 11...  \n",
       "1     [{'entityName': 'budget', 'startCharIndex': 75...  \n",
       "2     [{'entityName': 'dst_city', 'startCharIndex': ...  \n",
       "3     [{'entityName': 'or_city', 'startCharIndex': 3...  \n",
       "4     [{'entityName': 'budget', 'startCharIndex': 67...  \n",
       "...                                                 ...  \n",
       "1364  [{'entityName': 'or_city', 'startCharIndex': 6...  \n",
       "1365  [{'entityName': 'dst_city', 'startCharIndex': ...  \n",
       "1366  [{'entityName': 'budget', 'startCharIndex': 75...  \n",
       "1367                                                 []  \n",
       "1368  [{'entityName': 'or_city', 'startCharIndex': 4...  \n",
       "\n",
       "[1369 rows x 3 columns]"
      ]
     },
     "execution_count": 10,
     "metadata": {},
     "output_type": "execute_result"
    }
   ],
   "source": [
    "all_data_df = pd.DataFrame(all_data)\n",
    "all_data_df"
   ]
  },
  {
   "cell_type": "markdown",
   "metadata": {},
   "source": [
    "What are the values in intentName?"
   ]
  },
  {
   "cell_type": "code",
   "execution_count": 11,
   "metadata": {},
   "outputs": [
    {
     "name": "stdout",
     "output_type": "stream",
     "text": [
      "('inform',)\n",
      "('greeting', 'inform')\n",
      "('greeting', 'inform', 'request')\n",
      "('greeting',)\n",
      "('inform', 'request')\n",
      "('greeting', 'inform', 'thankyou')\n",
      "()\n"
     ]
    }
   ],
   "source": [
    "intentName = all_data_df['intentName'].apply(lambda x: tuple(x)).unique()\n",
    "for item in intentName:\n",
    "    print(item)"
   ]
  },
  {
   "cell_type": "markdown",
   "metadata": {},
   "source": [
    "Which utterances have empty intentName?"
   ]
  },
  {
   "cell_type": "code",
   "execution_count": 12,
   "metadata": {},
   "outputs": [
    {
     "data": {
      "text/html": [
       "<div>\n",
       "<style scoped>\n",
       "    .dataframe tbody tr th:only-of-type {\n",
       "        vertical-align: middle;\n",
       "    }\n",
       "\n",
       "    .dataframe tbody tr th {\n",
       "        vertical-align: top;\n",
       "    }\n",
       "\n",
       "    .dataframe thead th {\n",
       "        text-align: right;\n",
       "    }\n",
       "</style>\n",
       "<table border=\"1\" class=\"dataframe\">\n",
       "  <thead>\n",
       "    <tr style=\"text-align: right;\">\n",
       "      <th></th>\n",
       "      <th>text</th>\n",
       "      <th>intentName</th>\n",
       "      <th>entityLabels</th>\n",
       "    </tr>\n",
       "  </thead>\n",
       "  <tbody>\n",
       "    <tr>\n",
       "      <th>526</th>\n",
       "      <td>Have you ever read the book \"Vernon's Travels\"?</td>\n",
       "      <td>()</td>\n",
       "      <td>[]</td>\n",
       "    </tr>\n",
       "    <tr>\n",
       "      <th>657</th>\n",
       "      <td>psssstttttt</td>\n",
       "      <td>()</td>\n",
       "      <td>[]</td>\n",
       "    </tr>\n",
       "    <tr>\n",
       "      <th>1158</th>\n",
       "      <td>Vacay time woooohooooooo</td>\n",
       "      <td>()</td>\n",
       "      <td>[]</td>\n",
       "    </tr>\n",
       "  </tbody>\n",
       "</table>\n",
       "</div>"
      ],
      "text/plain": [
       "                                                 text intentName entityLabels\n",
       "526   Have you ever read the book \"Vernon's Travels\"?         ()           []\n",
       "657                                       psssstttttt         ()           []\n",
       "1158                         Vacay time woooohooooooo         ()           []"
      ]
     },
     "execution_count": 12,
     "metadata": {},
     "output_type": "execute_result"
    }
   ],
   "source": [
    "all_data_df[all_data_df['intentName'].apply(lambda x: tuple(x))==()]"
   ]
  },
  {
   "cell_type": "markdown",
   "metadata": {},
   "source": [
    "Each utterance should have only one intent. Are the multi-intent common?"
   ]
  },
  {
   "cell_type": "code",
   "execution_count": 13,
   "metadata": {},
   "outputs": [
    {
     "data": {
      "text/plain": [
       "intentName\n",
       "()                                3\n",
       "(greeting,)                     102\n",
       "(greeting, inform)              297\n",
       "(greeting, inform, request)       5\n",
       "(greeting, inform, thankyou)      1\n",
       "(inform,)                       951\n",
       "(inform, request)                10\n",
       "dtype: int64"
      ]
     },
     "execution_count": 13,
     "metadata": {},
     "output_type": "execute_result"
    }
   ],
   "source": [
    "all_data_df.groupby('intentName').size()"
   ]
  },
  {
   "cell_type": "code",
   "execution_count": 14,
   "metadata": {},
   "outputs": [
    {
     "data": {
      "text/html": [
       "<div>\n",
       "<style scoped>\n",
       "    .dataframe tbody tr th:only-of-type {\n",
       "        vertical-align: middle;\n",
       "    }\n",
       "\n",
       "    .dataframe tbody tr th {\n",
       "        vertical-align: top;\n",
       "    }\n",
       "\n",
       "    .dataframe thead th {\n",
       "        text-align: right;\n",
       "    }\n",
       "</style>\n",
       "<table border=\"1\" class=\"dataframe\">\n",
       "  <thead>\n",
       "    <tr style=\"text-align: right;\">\n",
       "      <th></th>\n",
       "      <th>text</th>\n",
       "      <th>intentName</th>\n",
       "      <th>entityLabels</th>\n",
       "    </tr>\n",
       "  </thead>\n",
       "  <tbody>\n",
       "    <tr>\n",
       "      <th>40</th>\n",
       "      <td>Hi!</td>\n",
       "      <td>(greeting,)</td>\n",
       "      <td>[]</td>\n",
       "    </tr>\n",
       "    <tr>\n",
       "      <th>48</th>\n",
       "      <td>Heyo!</td>\n",
       "      <td>(greeting,)</td>\n",
       "      <td>[]</td>\n",
       "    </tr>\n",
       "    <tr>\n",
       "      <th>52</th>\n",
       "      <td>Good morning.</td>\n",
       "      <td>(greeting,)</td>\n",
       "      <td>[]</td>\n",
       "    </tr>\n",
       "    <tr>\n",
       "      <th>63</th>\n",
       "      <td>Hello wozbot!</td>\n",
       "      <td>(greeting,)</td>\n",
       "      <td>[]</td>\n",
       "    </tr>\n",
       "    <tr>\n",
       "      <th>106</th>\n",
       "      <td>ay whats up?</td>\n",
       "      <td>(greeting,)</td>\n",
       "      <td>[]</td>\n",
       "    </tr>\n",
       "    <tr>\n",
       "      <th>...</th>\n",
       "      <td>...</td>\n",
       "      <td>...</td>\n",
       "      <td>...</td>\n",
       "    </tr>\n",
       "    <tr>\n",
       "      <th>1165</th>\n",
       "      <td>Hi. First time trying this out. What do I do?</td>\n",
       "      <td>(greeting,)</td>\n",
       "      <td>[]</td>\n",
       "    </tr>\n",
       "    <tr>\n",
       "      <th>1170</th>\n",
       "      <td>hi</td>\n",
       "      <td>(greeting,)</td>\n",
       "      <td>[]</td>\n",
       "    </tr>\n",
       "    <tr>\n",
       "      <th>1223</th>\n",
       "      <td>Hi</td>\n",
       "      <td>(greeting,)</td>\n",
       "      <td>[]</td>\n",
       "    </tr>\n",
       "    <tr>\n",
       "      <th>1251</th>\n",
       "      <td>Hi</td>\n",
       "      <td>(greeting,)</td>\n",
       "      <td>[]</td>\n",
       "    </tr>\n",
       "    <tr>\n",
       "      <th>1348</th>\n",
       "      <td>Hi! I am very excited!!!!</td>\n",
       "      <td>(greeting,)</td>\n",
       "      <td>[]</td>\n",
       "    </tr>\n",
       "  </tbody>\n",
       "</table>\n",
       "<p>102 rows × 3 columns</p>\n",
       "</div>"
      ],
      "text/plain": [
       "                                               text   intentName entityLabels\n",
       "40                                              Hi!  (greeting,)           []\n",
       "48                                            Heyo!  (greeting,)           []\n",
       "52                                    Good morning.  (greeting,)           []\n",
       "63                                    Hello wozbot!  (greeting,)           []\n",
       "106                                    ay whats up?  (greeting,)           []\n",
       "...                                             ...          ...          ...\n",
       "1165  Hi. First time trying this out. What do I do?  (greeting,)           []\n",
       "1170                                             hi  (greeting,)           []\n",
       "1223                                             Hi  (greeting,)           []\n",
       "1251                                             Hi  (greeting,)           []\n",
       "1348                      Hi! I am very excited!!!!  (greeting,)           []\n",
       "\n",
       "[102 rows x 3 columns]"
      ]
     },
     "execution_count": 14,
     "metadata": {},
     "output_type": "execute_result"
    }
   ],
   "source": [
    "all_data_df[all_data_df['intentName']==('greeting',)]"
   ]
  },
  {
   "cell_type": "markdown",
   "metadata": {},
   "source": [
    "There are enough sample with only the `inform` intent and only the `greeting` intent, let's keep only those ones. We'll build samples for the other intents `agree` and `disagree` that are there to check if the bot correctly understood the user."
   ]
  },
  {
   "cell_type": "code",
   "execution_count": 15,
   "metadata": {},
   "outputs": [],
   "source": [
    "agree_utterances = [\n",
    "\"Yes, that's right\",\n",
    "\"Exactly\",\n",
    "\"I confirm\",\n",
    "\"Yes\",\n",
    "\"Absolutely\",\n",
    "\"Yeah, definitely! So happy!\",\n",
    "\"That's good, I'm OK with it\",\n",
    "\"Yes, what's the next step?\",\n",
    "\"OK, what do you propose?\",\n",
    "\"Perfect\",\n",
    "\"Sounds good to me\",\n",
    "\"Yes, I think it's OK\",\n",
    "\"Oh yeah, bring it on!\",\n",
    "\"Mmm, I think so\",\n",
    "\"Let's say yes...\",\n",
    "\"Yes, go on\",\n",
    "\"OK\",\n",
    "\"That's OK\",\n",
    "\"Yes!\",\n",
    "\"All good\",\n",
    "\"OK for me\",\n",
    "\"Let's go!\",\n",
    "\"You rock\",\n",
    "\"Many thanks\",\n",
    "]\n",
    "\n",
    "disagree_utterances = [\n",
    "    \"No\",\n",
    "    \"Not at all\",\n",
    "    \"Not really...\",\n",
    "    \"Well, no\",\n",
    "    \"What?\",\n",
    "    \"Absolutely not\",\n",
    "    \"This is wrong\",\n",
    "    \"I didn't say that\",\n",
    "    \"No! No!\",\n",
    "    \"That's bullshit!\",\n",
    "    \"Really...?\",\n",
    "    \"Are you sure?\",\n",
    "    \"Mmmm, I'm afraid not\",\n",
    "    \"You completely misunderstood\",\n",
    "    \"Is it the best you can do?\"\n",
    "    \"I'm disappointed\",\n",
    "    \"You're garbage\",\n",
    "    \"As a matter of fact, no\",\n",
    "    \"You're wrong\",\n",
    "    \"You got it wrong\",\n",
    "    \"That sucks\",\n",
    "    \"I want to chat with a real person please\",\n",
    "    \"Damn machine!\",\n",
    "    \"I'm not sure\",\n",
    "    \"I don't know\",\n",
    "    \"I don't think so\",\n",
    "    ]"
   ]
  },
  {
   "cell_type": "code",
   "execution_count": 16,
   "metadata": {},
   "outputs": [
    {
     "name": "stderr",
     "output_type": "stream",
     "text": [
      "/tmp/ipykernel_63581/1631677712.py:3: SettingWithCopyWarning: \n",
      "A value is trying to be set on a copy of a slice from a DataFrame.\n",
      "Try using .loc[row_indexer,col_indexer] = value instead\n",
      "\n",
      "See the caveats in the documentation: https://pandas.pydata.org/pandas-docs/stable/user_guide/indexing.html#returning-a-view-versus-a-copy\n",
      "  inform_df['intentName'] ='inform'\n",
      "/tmp/ipykernel_63581/1631677712.py:7: SettingWithCopyWarning: \n",
      "A value is trying to be set on a copy of a slice from a DataFrame.\n",
      "Try using .loc[row_indexer,col_indexer] = value instead\n",
      "\n",
      "See the caveats in the documentation: https://pandas.pydata.org/pandas-docs/stable/user_guide/indexing.html#returning-a-view-versus-a-copy\n",
      "  greeting_df['intentName'] = 'greeting'\n"
     ]
    }
   ],
   "source": [
    "# Select utterances with intent 'inform' only\n",
    "inform_df = all_data_df[all_data_df['intentName'] ==('inform',)]\n",
    "inform_df['intentName'] ='inform'\n",
    "\n",
    "# Select utterances with intent 'greeting' only\n",
    "greeting_df = all_data_df[all_data_df['intentName'] == ('greeting',)]\n",
    "greeting_df['intentName'] = 'greeting'\n",
    "greeting_df = greeting_df.drop_duplicates(subset=['text'])\n",
    "\n",
    "# Create dataframe with utterances for intent 'agree' (no entity needed)\n",
    "agree_df = pd.DataFrame(columns=all_data_df.columns)\n",
    "agree_df['text'] = agree_utterances\n",
    "agree_df['intentName'] = \"agree\"\n",
    "agree_df['entityLabels'] = np.empty((len(agree_df), 0)).tolist()\n",
    "\n",
    "# Create dataframe with utterances for intent 'disagree' (no entity needed)\n",
    "disagree_df = pd.DataFrame(columns=all_data_df.columns)\n",
    "disagree_df['text'] = disagree_utterances\n",
    "disagree_df['intentName'] = \"disagree\"\n",
    "disagree_df['entityLabels'] = np.empty((len(disagree_df), 0)).tolist()\n"
   ]
  },
  {
   "cell_type": "code",
   "execution_count": 17,
   "metadata": {},
   "outputs": [
    {
     "data": {
      "text/plain": [
       "((951, 3), (64, 3), (24, 3), (25, 3))"
      ]
     },
     "execution_count": 17,
     "metadata": {},
     "output_type": "execute_result"
    }
   ],
   "source": [
    "inform_df.shape, greeting_df.shape, agree_df.shape, disagree_df.shape"
   ]
  },
  {
   "cell_type": "markdown",
   "metadata": {},
   "source": [
    "We don't need all the utterances to train LUIS: according to the documentation, we can train LUIS iteratively on a first small subset of the utterances, provided that we have a good understanding of the intent. To do so, we'll use the `inform` utterances with most entities."
   ]
  },
  {
   "cell_type": "code",
   "execution_count": 18,
   "metadata": {},
   "outputs": [
    {
     "name": "stderr",
     "output_type": "stream",
     "text": [
      "/tmp/ipykernel_63581/2919607915.py:2: SettingWithCopyWarning: \n",
      "A value is trying to be set on a copy of a slice from a DataFrame.\n",
      "Try using .loc[row_indexer,col_indexer] = value instead\n",
      "\n",
      "See the caveats in the documentation: https://pandas.pydata.org/pandas-docs/stable/user_guide/indexing.html#returning-a-view-versus-a-copy\n",
      "  inform_df['nb_entities'] = inform_df['entityLabels'].apply(lambda x: len(x))\n"
     ]
    }
   ],
   "source": [
    "# Get samples with more than 3 entities in the utterance\n",
    "inform_df['nb_entities'] = inform_df['entityLabels'].apply(lambda x: len(x))\n",
    "inform_df = inform_df[inform_df['nb_entities']>3]\n",
    "inform_df  = inform_df.drop(['nb_entities'], axis=1)\n"
   ]
  },
  {
   "cell_type": "code",
   "execution_count": 19,
   "metadata": {},
   "outputs": [
    {
     "data": {
      "text/plain": [
       "(127, 3)"
      ]
     },
     "execution_count": 19,
     "metadata": {},
     "output_type": "execute_result"
    }
   ],
   "source": [
    "inform_df.shape"
   ]
  },
  {
   "cell_type": "code",
   "execution_count": 21,
   "metadata": {},
   "outputs": [],
   "source": [
    "# Create train and test dataframes (50% train, 50% test)\n",
    "frac=0.5\n",
    "random_state = 42\n",
    "\n",
    "train_inform_df = inform_df.sample(frac=frac, random_state=random_state)\n",
    "train_greeting_df = greeting_df.sample(frac=frac, random_state=random_state)\n",
    "train_agree_df = agree_df.sample(frac=frac, random_state=random_state)\n",
    "train_disagree_df = disagree_df.sample(frac=frac, random_state=random_state)\n",
    "\n",
    "test_inform_df = inform_df.drop(train_inform_df.index)\n",
    "test_greeting_df = greeting_df.drop(train_greeting_df.index)\n",
    "test_agree_df = agree_df.drop(train_agree_df.index)\n",
    "test_disagree_df = disagree_df.drop(train_disagree_df.index)\n",
    "\n",
    "# Convert train an test dataframes to list of dictionaries\n",
    "train_inform = [train_inform_df.loc[i].to_dict() for i in train_inform_df.index]\n",
    "train_greeting = [train_greeting_df.loc[i].to_dict() for i in train_greeting_df.index]\n",
    "train_agree = [train_agree_df.loc[i].to_dict() for i in train_agree_df.index]\n",
    "train_disagree = [train_disagree_df.loc[i].to_dict() for i in train_disagree_df.index]\n",
    "\n",
    "test_inform = [test_inform_df.loc[i].to_dict() for i in test_inform_df.index]\n",
    "test_greeting = [test_greeting_df.loc[i].to_dict() for i in test_greeting_df.index]\n",
    "test_agree = [test_agree_df.loc[i].to_dict() for i in test_agree_df.index]\n",
    "test_disagree = [test_disagree_df.loc[i].to_dict() for i in test_disagree_df.index]\n"
   ]
  },
  {
   "cell_type": "markdown",
   "metadata": {},
   "source": [
    "Test data must follow a different structure than train data:"
   ]
  },
  {
   "cell_type": "code",
   "execution_count": null,
   "metadata": {},
   "outputs": [],
   "source": [
    "def change_keys(entity):\n",
    "    \"\"\"Return entity with modified keys to comply to test data format.\n",
    "    E.g.:\n",
    "    input:\n",
    "    {'entityName': 'budget', 'startCharIndex': 0, 'endCharIndex': 5}\n",
    "\n",
    "    output:\n",
    "    {'entity': 'budget', 'startPos': 0, 'endPos': 5}\n",
    "    \"\"\"\n",
    "    return {'entity': entity['entityName'], 'startPos': entity['startCharIndex'], 'endPos': entity['endCharIndex']}\n",
    "\n",
    "test_data_df = pd.concat([test_inform_df, test_greeting_df, test_agree_df, test_disagree_df])\n",
    "test_data_df = test_data_df.reset_index(drop=True)\n",
    "test_data_df.columns = ['text', 'intent', 'entities']\n",
    "test_data_df['entities'] = test_data_df.apply(lambda row: [change_keys(item) for item in row['entities']] , axis=1)\n",
    "test_data = [test_data_df.loc[i].to_dict() for i in test_data_df.index]"
   ]
  },
  {
   "cell_type": "code",
   "execution_count": null,
   "metadata": {},
   "outputs": [],
   "source": [
    "# Export train data\n",
    "\n",
    "with open ('train_inform.json', 'w') as f:\n",
    "    json.dump(train_inform, f, indent=4)\n",
    "with open ('train_greeting.json', 'w') as f:\n",
    "    json.dump(train_greeting, f, indent=4)\n",
    "with open ('train_agree.json', 'w') as f:\n",
    "    json.dump(train_agree, f, indent=4)\n",
    "with open ('train_disagree.json', 'w') as f:\n",
    "    json.dump(train_disagree, f, indent=4)\n",
    "\n",
    "# Export test data\n",
    "with open('test_data.json', 'w') as f:\n",
    "    json.dump(test_data, f, indent=4)"
   ]
  },
  {
   "cell_type": "markdown",
   "metadata": {},
   "source": [
    "Data are ready."
   ]
  }
 ],
 "metadata": {
  "kernelspec": {
   "display_name": "Python 3 (ipykernel)",
   "language": "python",
   "name": "python3"
  },
  "language_info": {
   "codemirror_mode": {
    "name": "ipython",
    "version": 3
   },
   "file_extension": ".py",
   "mimetype": "text/x-python",
   "name": "python",
   "nbconvert_exporter": "python",
   "pygments_lexer": "ipython3",
   "version": "3.8.10"
  },
  "vscode": {
   "interpreter": {
    "hash": "49ca45737546250f42b496f9f3202c989425b870612331f517aa0e5640df5f91"
   }
  },
  "widgets": {
   "application/vnd.jupyter.widget-state+json": {
    "state": {
     "002e7ce1982e43dd89cd1083bdcec0fc": {
      "model_module": "@jupyter-widgets/controls",
      "model_module_version": "1.5.0",
      "model_name": "HTMLModel",
      "state": {
       "layout": "IPY_MODEL_911696d6f17f490fbc3750c30634b687",
       "style": "IPY_MODEL_9dbeee376e6e4300bd93ec6d62edd11f",
       "value": "100%"
      }
     },
     "00399e52794747ceb5b96b601b3d0e0f": {
      "model_module": "@jupyter-widgets/base",
      "model_module_version": "1.2.0",
      "model_name": "LayoutModel",
      "state": {}
     },
     "04b4a0ea228644d4abb5187c7ae0bbdc": {
      "model_module": "@jupyter-widgets/controls",
      "model_module_version": "1.5.0",
      "model_name": "ProgressStyleModel",
      "state": {
       "description_width": ""
      }
     },
     "08d7514506354be98b1fbf1263bd8f31": {
      "model_module": "@jupyter-widgets/base",
      "model_module_version": "1.2.0",
      "model_name": "LayoutModel",
      "state": {}
     },
     "099e2e68347f4071bb2557101986d329": {
      "model_module": "@jupyter-widgets/base",
      "model_module_version": "1.2.0",
      "model_name": "LayoutModel",
      "state": {}
     },
     "1e15caf4f1fb49a7a84901179179b1da": {
      "model_module": "@jupyter-widgets/controls",
      "model_module_version": "1.5.0",
      "model_name": "HTMLModel",
      "state": {
       "layout": "IPY_MODEL_7f7a7b6622ba4c618ac43ce4c51a5ac0",
       "style": "IPY_MODEL_46cc82bd598d444bbf9e72b6c6be5ca9",
       "value": " 1369/1369 [00:09&lt;00:00, 73.80it/s]"
      }
     },
     "1e27f479afa440b6b016417faa915b8f": {
      "model_module": "@jupyter-widgets/controls",
      "model_module_version": "1.5.0",
      "model_name": "FloatProgressModel",
      "state": {
       "bar_style": "success",
       "layout": "IPY_MODEL_f18bfada1cbf4b1fa370c8126e75752a",
       "max": 10407,
       "style": "IPY_MODEL_d4c45308cca540e7982e6f0d33aed950",
       "value": 10407
      }
     },
     "2057058966464fdc80825578ffb1a708": {
      "model_module": "@jupyter-widgets/controls",
      "model_module_version": "1.5.0",
      "model_name": "DescriptionStyleModel",
      "state": {
       "description_width": ""
      }
     },
     "2632fef837ad47dfb9614b9cec44930f": {
      "model_module": "@jupyter-widgets/base",
      "model_module_version": "1.2.0",
      "model_name": "LayoutModel",
      "state": {}
     },
     "2a380e91411740aa894957ef6534eb50": {
      "model_module": "@jupyter-widgets/controls",
      "model_module_version": "1.5.0",
      "model_name": "FloatProgressModel",
      "state": {
       "bar_style": "success",
       "layout": "IPY_MODEL_fb540b483c524065be2d0ae5ee3a2d1c",
       "max": 1369,
       "style": "IPY_MODEL_04b4a0ea228644d4abb5187c7ae0bbdc",
       "value": 1369
      }
     },
     "308e80cd54b7458bb73d741879bf230b": {
      "model_module": "@jupyter-widgets/controls",
      "model_module_version": "1.5.0",
      "model_name": "HBoxModel",
      "state": {
       "children": [
        "IPY_MODEL_f752c81e67b74704ae5dac1e103814e8",
        "IPY_MODEL_c9d15c54bce142bba6a27bf158c53874",
        "IPY_MODEL_1e15caf4f1fb49a7a84901179179b1da"
       ],
       "layout": "IPY_MODEL_2632fef837ad47dfb9614b9cec44930f"
      }
     },
     "402f381a9af4438ba4946e0923a42dd0": {
      "model_module": "@jupyter-widgets/controls",
      "model_module_version": "1.5.0",
      "model_name": "DescriptionStyleModel",
      "state": {
       "description_width": ""
      }
     },
     "4285875bce864c88b241234179278c92": {
      "model_module": "@jupyter-widgets/controls",
      "model_module_version": "1.5.0",
      "model_name": "HTMLModel",
      "state": {
       "layout": "IPY_MODEL_c49f3d6a88694253aba15f5537a4f9c5",
       "style": "IPY_MODEL_2057058966464fdc80825578ffb1a708",
       "value": "100%"
      }
     },
     "46cc82bd598d444bbf9e72b6c6be5ca9": {
      "model_module": "@jupyter-widgets/controls",
      "model_module_version": "1.5.0",
      "model_name": "DescriptionStyleModel",
      "state": {
       "description_width": ""
      }
     },
     "54f2889a44eb453794587b8ddcf27bde": {
      "model_module": "@jupyter-widgets/controls",
      "model_module_version": "1.5.0",
      "model_name": "HTMLModel",
      "state": {
       "layout": "IPY_MODEL_00399e52794747ceb5b96b601b3d0e0f",
       "style": "IPY_MODEL_95abaf5d70e54a1c906933d42d2edca8",
       "value": " 1369/1369 [00:08&lt;00:00, 83.04it/s]"
      }
     },
     "62273309d4eb405eb6de3119541282c1": {
      "model_module": "@jupyter-widgets/controls",
      "model_module_version": "1.5.0",
      "model_name": "HBoxModel",
      "state": {
       "children": [
        "IPY_MODEL_002e7ce1982e43dd89cd1083bdcec0fc",
        "IPY_MODEL_1e27f479afa440b6b016417faa915b8f",
        "IPY_MODEL_ba7a0d2c208243ebb1fd098cf2647600"
       ],
       "layout": "IPY_MODEL_de2e780daa394ac3aee720f21f508142"
      }
     },
     "7f7a7b6622ba4c618ac43ce4c51a5ac0": {
      "model_module": "@jupyter-widgets/base",
      "model_module_version": "1.2.0",
      "model_name": "LayoutModel",
      "state": {}
     },
     "911696d6f17f490fbc3750c30634b687": {
      "model_module": "@jupyter-widgets/base",
      "model_module_version": "1.2.0",
      "model_name": "LayoutModel",
      "state": {}
     },
     "92f3a3867d3044789d98b7c79b3b90da": {
      "model_module": "@jupyter-widgets/controls",
      "model_module_version": "1.5.0",
      "model_name": "DescriptionStyleModel",
      "state": {
       "description_width": ""
      }
     },
     "95abaf5d70e54a1c906933d42d2edca8": {
      "model_module": "@jupyter-widgets/controls",
      "model_module_version": "1.5.0",
      "model_name": "DescriptionStyleModel",
      "state": {
       "description_width": ""
      }
     },
     "9dbeee376e6e4300bd93ec6d62edd11f": {
      "model_module": "@jupyter-widgets/controls",
      "model_module_version": "1.5.0",
      "model_name": "DescriptionStyleModel",
      "state": {
       "description_width": ""
      }
     },
     "a5c935632cdb4dc4a9124c29949d1510": {
      "model_module": "@jupyter-widgets/base",
      "model_module_version": "1.2.0",
      "model_name": "LayoutModel",
      "state": {}
     },
     "b19b42d3d6854488b6dacc0620193cfa": {
      "model_module": "@jupyter-widgets/controls",
      "model_module_version": "1.5.0",
      "model_name": "ProgressStyleModel",
      "state": {
       "description_width": ""
      }
     },
     "ba7a0d2c208243ebb1fd098cf2647600": {
      "model_module": "@jupyter-widgets/controls",
      "model_module_version": "1.5.0",
      "model_name": "HTMLModel",
      "state": {
       "layout": "IPY_MODEL_08d7514506354be98b1fbf1263bd8f31",
       "style": "IPY_MODEL_92f3a3867d3044789d98b7c79b3b90da",
       "value": " 10407/10407 [00:00&lt;00:00, 105943.81it/s]"
      }
     },
     "c49f3d6a88694253aba15f5537a4f9c5": {
      "model_module": "@jupyter-widgets/base",
      "model_module_version": "1.2.0",
      "model_name": "LayoutModel",
      "state": {}
     },
     "c9d15c54bce142bba6a27bf158c53874": {
      "model_module": "@jupyter-widgets/controls",
      "model_module_version": "1.5.0",
      "model_name": "FloatProgressModel",
      "state": {
       "bar_style": "success",
       "layout": "IPY_MODEL_a5c935632cdb4dc4a9124c29949d1510",
       "max": 1369,
       "style": "IPY_MODEL_b19b42d3d6854488b6dacc0620193cfa",
       "value": 1369
      }
     },
     "d4c45308cca540e7982e6f0d33aed950": {
      "model_module": "@jupyter-widgets/controls",
      "model_module_version": "1.5.0",
      "model_name": "ProgressStyleModel",
      "state": {
       "description_width": ""
      }
     },
     "dd161d6f567f46718390cfb6b27de086": {
      "model_module": "@jupyter-widgets/base",
      "model_module_version": "1.2.0",
      "model_name": "LayoutModel",
      "state": {}
     },
     "de2e780daa394ac3aee720f21f508142": {
      "model_module": "@jupyter-widgets/base",
      "model_module_version": "1.2.0",
      "model_name": "LayoutModel",
      "state": {}
     },
     "ed5b94aae9e64d23a20a2bc4961065e2": {
      "model_module": "@jupyter-widgets/controls",
      "model_module_version": "1.5.0",
      "model_name": "HBoxModel",
      "state": {
       "children": [
        "IPY_MODEL_4285875bce864c88b241234179278c92",
        "IPY_MODEL_2a380e91411740aa894957ef6534eb50",
        "IPY_MODEL_54f2889a44eb453794587b8ddcf27bde"
       ],
       "layout": "IPY_MODEL_099e2e68347f4071bb2557101986d329"
      }
     },
     "f18bfada1cbf4b1fa370c8126e75752a": {
      "model_module": "@jupyter-widgets/base",
      "model_module_version": "1.2.0",
      "model_name": "LayoutModel",
      "state": {}
     },
     "f752c81e67b74704ae5dac1e103814e8": {
      "model_module": "@jupyter-widgets/controls",
      "model_module_version": "1.5.0",
      "model_name": "HTMLModel",
      "state": {
       "layout": "IPY_MODEL_dd161d6f567f46718390cfb6b27de086",
       "style": "IPY_MODEL_402f381a9af4438ba4946e0923a42dd0",
       "value": "100%"
      }
     },
     "fb540b483c524065be2d0ae5ee3a2d1c": {
      "model_module": "@jupyter-widgets/base",
      "model_module_version": "1.2.0",
      "model_name": "LayoutModel",
      "state": {}
     }
    },
    "version_major": 2,
    "version_minor": 0
   }
  }
 },
 "nbformat": 4,
 "nbformat_minor": 4
}
